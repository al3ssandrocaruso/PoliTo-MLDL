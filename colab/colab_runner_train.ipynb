{
 "cells": [
  {
   "cell_type": "markdown",
   "metadata": {
    "id": "AiJmWFMwnl_Z"
   },
   "source": [
    "# Colab Runner for MLDL23-Ego"
   ]
  },
  {
   "cell_type": "markdown",
   "metadata": {
    "id": "CqTl3-xLnl_e"
   },
   "source": [
    "## EPIC-Kitchens-55 dataset\n",
    "\n",
    "**READ carefully!**\n",
    "\n",
    "To develop the project, you need to download the RGB frames for a subset of EPIC-Kitchens-55 (participants P08, P01 and P22) from [here](https://politoit-my.sharepoint.com/:f:/g/personal/simone_peirone_polito_it/EqCmaEAi2oBEqEqzBZ-pIA0Bke4EGNkUEhqwApEhUp9tDw?e=DtSbMP) (you need to login with your Polito credentials). \n",
    "\n",
    "You also need to the pretrained checkpoints for each domain from [here](https://politoit-my.sharepoint.com/:f:/g/personal/simone_peirone_polito_it/ErdsZhvmR65Lun5_5O0-l5sBTPjCCZZq2f700Tj_CNzjTQ?e=L1yflf).\n",
    "\n",
    "Upload the dataset on your Google Drive to access it from Google Colab.\n",
    "\n",
    "**NOTE**: As the dataset is quite heavy, we stronly suggest you to implement and test all your code on one for the three dataset. Then, once you are sure everything works, repeat the experiments on the remaining two datasets."
   ]
  },
  {
   "cell_type": "code",
   "execution_count": null,
   "metadata": {
    "colab": {
     "base_uri": "https://localhost:8080/"
    },
    "id": "ArHx1QLBnl_f",
    "outputId": "51cbf59f-9f75-47a4-fda3-95e24154ab6f"
   },
   "outputs": [],
   "source": [
    "# Mount google drive \n",
    "from google.colab import drive\n",
    "drive.mount('/content/drive', force_remount=True)"
   ]
  },
  {
   "cell_type": "markdown",
   "metadata": {
    "id": "22e7tUEjnl_h"
   },
   "source": [
    "## Running the code"
   ]
  },
  {
   "cell_type": "code",
   "execution_count": null,
   "metadata": {
    "colab": {
     "base_uri": "https://localhost:8080/"
    },
    "id": "31xCeYMnc67M",
    "outputId": "6f130866-3e21-4cc9-c860-5652b89612d3"
   },
   "outputs": [],
   "source": [
    "# Clone the public repository (or your repository)\n",
    "!git clone https://github.com/al3ssandrocaruso/MLDL2023.git mldl23-ego"
   ]
  },
  {
   "cell_type": "code",
   "execution_count": null,
   "metadata": {
    "colab": {
     "base_uri": "https://localhost:8080/"
    },
    "id": "OfxNEJA1dbLD",
    "outputId": "9deb45c0-729a-42c1-ce36-ad613bba9125"
   },
   "outputs": [],
   "source": [
    "# Install conda on Google Colab\n",
    "!pip install -q condacolab\n",
    "import condacolab\n",
    "condacolab.install()"
   ]
  },
  {
   "cell_type": "code",
   "execution_count": null,
   "metadata": {
    "colab": {
     "base_uri": "https://localhost:8080/"
    },
    "id": "r9TB8gMAdoWt",
    "outputId": "9a699a02-cf51-4c6b-b2c9-c2899efde1b2"
   },
   "outputs": [],
   "source": [
    "# Create a conda environment \n",
    "!conda env create --name egovision -f mldl23-ego/requirements.yaml"
   ]
  },
  {
   "cell_type": "markdown",
   "metadata": {
    "id": "N5EBvAhynl_j"
   },
   "source": [
    "**TIP**: As the creation of the Conda Environment may be a slow process, you may look at the `conda-pack` package to store the environment in a .tar.gz archive you can store on Google Drive and restore later."
   ]
  },
  {
   "cell_type": "markdown",
   "metadata": {
    "id": "wDQt4X8fnl_l"
   },
   "source": [
    "## Features extraction"
   ]
  },
  {
   "cell_type": "code",
   "execution_count": null,
   "metadata": {
    "id": "88YghJyXhbfS"
   },
   "outputs": [],
   "source": [
    "%%bash\n",
    "\n",
    "cd projectMLDL2023\n",
    "\n",
    "PYTHON_PATH=/usr/local/envs/egovision/bin/python\n",
    "python GRU_classifier1.py action=train name=GRU_RGB_EK_train1 train.RGB=5 test.RGB=5 dataset.shift=D1-D1 dataset.RGB.data_path=null"
   ]
  }
 ],
 "metadata": {
  "accelerator": "GPU",
  "colab": {
   "machine_shape": "hm",
   "provenance": []
  },
  "gpuClass": "premium",
  "kernelspec": {
   "display_name": "Python 3 (ipykernel)",
   "language": "python",
   "name": "python3"
  },
  "language_info": {
   "codemirror_mode": {
    "name": "ipython",
    "version": 3
   },
   "file_extension": ".py",
   "mimetype": "text/x-python",
   "name": "python",
   "nbconvert_exporter": "python",
   "pygments_lexer": "ipython3",
   "version": "3.10.9"
  },
  "vscode": {
   "interpreter": {
    "hash": "2fc1f0eeae38a5df67b0f713e03196095ce1bfa55aa551576e8e58c2ba904c5a"
   }
  }
 },
 "nbformat": 4,
 "nbformat_minor": 1
}
