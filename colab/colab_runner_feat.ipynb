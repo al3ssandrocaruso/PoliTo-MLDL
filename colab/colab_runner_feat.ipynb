{
 "cells": [
  {
   "cell_type": "markdown",
   "metadata": {
    "id": "AiJmWFMwnl_Z"
   },
   "source": [
    "# Colab Runner for MLDL23-Ego"
   ]
  },
  {
   "cell_type": "markdown",
   "metadata": {
    "id": "view-in-github"
   },
   "source": [
    "<a href=\"https://colab.research.google.com/github/EgovisionPolito/mldl23-ego/blob/master/colab_runner.ipynb\" target=\"_parent\"><img src=\"https://colab.research.google.com/assets/colab-badge.svg\" alt=\"Open In Colab\"/></a>"
   ]
  },
  {
   "cell_type": "markdown",
   "metadata": {
    "id": "CqTl3-xLnl_e"
   },
   "source": [
    "## EPIC-Kitchens-55 dataset\n",
    "\n",
    "**READ carefully!**\n",
    "\n",
    "To develop the project, you need to download the RGB frames for a subset of EPIC-Kitchens-55 (participants P08, P01 and P22) from [here](https://politoit-my.sharepoint.com/:f:/g/personal/simone_peirone_polito_it/EqCmaEAi2oBEqEqzBZ-pIA0Bke4EGNkUEhqwApEhUp9tDw?e=DtSbMP) (you need to login with your Polito credentials). \n",
    "\n",
    "You also need to the pretrained checkpoints for each domain from [here](https://politoit-my.sharepoint.com/:f:/g/personal/simone_peirone_polito_it/ErdsZhvmR65Lun5_5O0-l5sBTPjCCZZq2f700Tj_CNzjTQ?e=L1yflf).\n",
    "\n",
    "Upload the dataset on your Google Drive to access it from Google Colab.\n",
    "\n",
    "**NOTE**: As the dataset is quite heavy, we stronly suggest you to implement and test all your code on one for the three dataset. Then, once you are sure everything works, repeat the experiments on the remaining two datasets."
   ]
  },
  {
   "cell_type": "code",
   "execution_count": 13,
   "metadata": {
    "colab": {
     "base_uri": "https://localhost:8080/"
    },
    "id": "ArHx1QLBnl_f",
    "outputId": "51cbf59f-9f75-47a4-fda3-95e24154ab6f"
   },
   "outputs": [
    {
     "name": "stdout",
     "output_type": "stream",
     "text": [
      "Mounted at /content/drive\n"
     ]
    }
   ],
   "source": [
    "# Mount google drive \n",
    "from google.colab import drive\n",
    "drive.mount('/content/drive', force_remount=True)"
   ]
  },
  {
   "cell_type": "code",
   "execution_count": null,
   "metadata": {
    "id": "gcV2ioBx3QI7"
   },
   "outputs": [],
   "source": [
    "from google.colab import drive\n",
    "drive.mount('/content/drive')"
   ]
  },
  {
   "cell_type": "code",
   "execution_count": 4,
   "metadata": {
    "colab": {
     "base_uri": "https://localhost:8080/"
    },
    "id": "1XbclV-Rnl_g",
    "outputId": "82acabce-f68f-4e97-8b3a-22be1a735290"
   },
   "outputs": [
    {
     "name": "stdout",
     "output_type": "stream",
     "text": [
      "-rw------- 1 root root 1.1G Apr 22 16:31 ./ek_data/P01_01.tar.gz\n",
      "-rw------- 1 root root 390M Apr 22 16:31 ./ek_data/P01_02.tar.gz\n",
      "-rw------- 1 root root 44M Apr 22 16:31 ./ek_data/P01_03.tar.gz\n",
      "-rw------- 1 root root 45M Apr 22 16:31 ./ek_data/P01_04.tar.gz\n",
      "-rw------- 1 root root 420M Apr 22 16:31 ./ek_data/P01_05.tar.gz\n",
      "-rw------- 1 root root 361M Apr 22 16:31 ./ek_data/P01_06.tar.gz\n",
      "-rw------- 1 root root 87M Apr 22 16:31 ./ek_data/P01_07.tar.gz\n",
      "-rw------- 1 root root 57M Apr 22 16:31 ./ek_data/P01_08.tar.gz\n",
      "-rw------- 1 root root 1.7G Apr 22 16:32 ./ek_data/P01_09.tar.gz\n",
      "-rw------- 1 root root 90M Apr 22 16:32 ./ek_data/P01_10.tar.gz\n",
      "-rw------- 1 root root 355M Apr 22 16:32 ./ek_data/P01_11.tar.gz\n",
      "-rw------- 1 root root 88M Apr 22 16:32 ./ek_data/P01_12.tar.gz\n",
      "-rw------- 1 root root 42M Apr 22 16:32 ./ek_data/P01_13.tar.gz\n",
      "-rw------- 1 root root 825M Apr 22 16:32 ./ek_data/P01_14.tar.gz\n",
      "-rw------- 1 root root 728M Apr 22 16:32 ./ek_data/P01_15.tar.gz\n",
      "-rw------- 1 root root 92M Apr 22 16:32 ./ek_data/P01_16.tar.gz\n",
      "-rw------- 1 root root 739M Apr 22 16:32 ./ek_data/P01_17.tar.gz\n",
      "-rw------- 1 root root 1.9G Apr 22 16:32 ./ek_data/P01_18.tar.gz\n",
      "-rw------- 1 root root 375M Apr 22 16:32 ./ek_data/P01_19.tar.gz\n",
      "-rw------- 1 root root 436M Apr 22 16:32 ./ek_data/P08_01.tar.gz\n",
      "-rw------- 1 root root 65M Apr 22 16:32 ./ek_data/P08_02.tar.gz\n",
      "-rw------- 1 root root 78M Apr 22 16:32 ./ek_data/P08_03.tar.gz\n",
      "-rw------- 1 root root 168M Apr 22 16:32 ./ek_data/P08_04.tar.gz\n",
      "-rw------- 1 root root 1.4G Apr 22 16:32 ./ek_data/P08_05.tar.gz\n",
      "-rw------- 1 root root 372M Apr 22 16:32 ./ek_data/P08_06.tar.gz\n",
      "-rw------- 1 root root 20M Apr 22 16:32 ./ek_data/P08_07.tar.gz\n",
      "-rw------- 1 root root 85M Apr 22 16:32 ./ek_data/P08_08.tar.gz\n",
      "-rw------- 1 root root 202M Apr 22 16:33 ./ek_data/P08_10.tar.gz\n",
      "-rw------- 1 root root 59M Apr 22 16:33 ./ek_data/P08_11.tar.gz\n",
      "-rw------- 1 root root 9.0M Apr 22 16:33 ./ek_data/P08_12.tar.gz\n",
      "-rw------- 1 root root 12M Apr 22 16:33 ./ek_data/P08_13.tar.gz\n",
      "-rw------- 1 root root 86M Apr 22 16:33 ./ek_data/P08_14.tar.gz\n",
      "-rw------- 1 root root 347M Apr 22 16:33 ./ek_data/P08_15.tar.gz\n",
      "-rw------- 1 root root 285M Apr 22 16:33 ./ek_data/P08_16.tar.gz\n",
      "-rw------- 1 root root 477M Apr 22 16:33 ./ek_data/P08_17.tar.gz\n",
      "-rw------- 1 root root 379M Apr 22 16:33 ./ek_data/P08_18.tar.gz\n",
      "-rw------- 1 root root 52M Apr 22 16:33 ./ek_data/P08_19.tar.gz\n",
      "-rw------- 1 root root 69M Apr 22 16:33 ./ek_data/P08_20.tar.gz\n",
      "-rw------- 1 root root 1.1G Apr 22 16:33 ./ek_data/P08_21.tar.gz\n",
      "-rw------- 1 root root 91M Apr 22 16:33 ./ek_data/P08_22.tar.gz\n",
      "-rw------- 1 root root 1.4G Apr 22 16:33 ./ek_data/P08_23.tar.gz\n",
      "-rw------- 1 root root 558M Apr 22 16:33 ./ek_data/P08_24.tar.gz\n",
      "-rw------- 1 root root 18M Apr 22 16:33 ./ek_data/P08_25.tar.gz\n",
      "-rw------- 1 root root 311M Apr 22 16:33 ./ek_data/P08_26.tar.gz\n",
      "-rw------- 1 root root 118M Apr 22 16:33 ./ek_data/P08_27.tar.gz\n",
      "-rw------- 1 root root 24M Apr 22 16:33 ./ek_data/P08_28.tar.gz\n",
      "-rw------- 1 root root 491M Apr 22 16:33 ./ek_data/P22_01.tar.gz\n",
      "-rw------- 1 root root 312M Apr 22 16:33 ./ek_data/P22_02.tar.gz\n",
      "-rw------- 1 root root 798M Apr 22 16:33 ./ek_data/P22_03.tar.gz\n",
      "-rw------- 1 root root 236M Apr 22 16:33 ./ek_data/P22_04.tar.gz\n",
      "-rw------- 1 root root 688M Apr 22 16:33 ./ek_data/P22_05.tar.gz\n"
     ]
    },
    {
     "name": "stderr",
     "output_type": "stream",
     "text": [
      "ls: cannot access './ek_data/P08_09': No such file or directory\n",
      "ls: cannot access '(1).tar.gz': No such file or directory\n",
      "tar: ./ek_data/P08_09: Cannot open: No such file or directory\n",
      "tar: Error is not recoverable: exiting now\n",
      "\n",
      "gzip: stdin: unexpected end of file\n",
      "tar: Unexpected EOF in archive\n",
      "tar: Unexpected EOF in archive\n",
      "tar: Error is not recoverable: exiting now\n"
     ]
    }
   ],
   "source": [
    "%%bash\n",
    "\n",
    "# As read and write operations from google drive are slow, we suggest to copy and unzip\n",
    "# the dataset in a local directory on the Colab's machine.\n",
    "mkdir -p ek_data/frames\n",
    "\n",
    "# Copy the *.tar.gz files of Epic-Kitchens\n",
    "# TODO: replace with your path\n",
    "cp /content/drive/MyDrive/MLDL/EpicKitchensDataset/*.tar.gz ./ek_data\n",
    "# Untar\n",
    "for file in ./ek_data/*.tar.gz; do\n",
    "  fn=$(basename $file)\n",
    "  fn=${fn/.tar.gz/}\n",
    "  ls -lah $file\n",
    "  mkdir -p ek_data/frames/$fn\n",
    "  tar xf $file --directory=ek_data/frames/$fn\n",
    "done"
   ]
  },
  {
   "cell_type": "markdown",
   "metadata": {
    "id": "22e7tUEjnl_h"
   },
   "source": [
    "## Running the code"
   ]
  },
  {
   "cell_type": "code",
   "execution_count": 7,
   "metadata": {
    "colab": {
     "base_uri": "https://localhost:8080/"
    },
    "id": "31xCeYMnc67M",
    "outputId": "6f130866-3e21-4cc9-c860-5652b89612d3"
   },
   "outputs": [
    {
     "name": "stdout",
     "output_type": "stream",
     "text": [
      "Cloning into 'mldl23-ego'...\n",
      "remote: Enumerating objects: 102, done.\u001b[K\n",
      "remote: Counting objects: 100% (60/60), done.\u001b[K\n",
      "remote: Compressing objects: 100% (44/44), done.\u001b[K\n",
      "remote: Total 102 (delta 28), reused 42 (delta 16), pack-reused 42\u001b[K\n",
      "Receiving objects: 100% (102/102), 90.20 MiB | 22.87 MiB/s, done.\n",
      "Resolving deltas: 100% (29/29), done.\n"
     ]
    }
   ],
   "source": [
    "# Clone the public repository (or your repository)\n",
    "!git clone https://github.com/al3ssandrocaruso/MLDL2023.git mldl23-ego"
   ]
  },
  {
   "cell_type": "code",
   "execution_count": 8,
   "metadata": {
    "colab": {
     "base_uri": "https://localhost:8080/"
    },
    "id": "OfxNEJA1dbLD",
    "outputId": "9deb45c0-729a-42c1-ce36-ad613bba9125"
   },
   "outputs": [
    {
     "name": "stdout",
     "output_type": "stream",
     "text": [
      "\u001b[33mWARNING: Running pip as the 'root' user can result in broken permissions and conflicting behaviour with the system package manager. It is recommended to use a virtual environment instead: https://pip.pypa.io/warnings/venv\u001b[0m\u001b[33m\n",
      "\u001b[0m✨🍰✨ Everything looks OK!\n"
     ]
    }
   ],
   "source": [
    "# Install conda on Google Colab\n",
    "\n",
    "!pip install -q condacolab\n",
    "import condacolab\n",
    "condacolab.install()"
   ]
  },
  {
   "cell_type": "code",
   "execution_count": 10,
   "metadata": {
    "colab": {
     "base_uri": "https://localhost:8080/"
    },
    "id": "r9TB8gMAdoWt",
    "outputId": "9a699a02-cf51-4c6b-b2c9-c2899efde1b2"
   },
   "outputs": [
    {
     "name": "stdout",
     "output_type": "stream",
     "text": [
      "\n",
      "CondaValueError: prefix already exists: /usr/local/envs/egovision\n",
      "\n"
     ]
    }
   ],
   "source": [
    "# Create a conda environment \n",
    "!conda env create --name egovision -f mldl23-ego/requirements.yaml"
   ]
  },
  {
   "cell_type": "markdown",
   "metadata": {
    "id": "N5EBvAhynl_j"
   },
   "source": [
    "**TIP**: As the creation of the Conda Environment may be a slow process, you may look at the `conda-pack` package to store the environment in a .tar.gz archive you can store on Google Drive and restore later."
   ]
  },
  {
   "cell_type": "markdown",
   "metadata": {
    "id": "wDQt4X8fnl_l"
   },
   "source": [
    "## Features extraction"
   ]
  },
  {
   "cell_type": "code",
   "execution_count": null,
   "metadata": {
    "id": "88YghJyXhbfS"
   },
   "outputs": [],
   "source": [
    "%%bash\n",
    "\n",
    "cd mldl23-ego\n",
    "\n",
    "PYTHON_PATH=/usr/local/envs/egovision/bin/python\n",
    "$PYTHON_PATH save_feat.py name=change_me \\\n",
    "  resume_from:../drive/MyDrive/saved_models/I3D_SourceOnlyD1 \\\n",
    "  config=configs/I3D_save_feat.yaml \\\n",
    "  dataset.shift=D1-D1 \\\n",
    "  dataset.RGB.data_path=../ek_data/frames "
   ]
  },
  {
   "cell_type": "code",
   "execution_count": null,
   "metadata": {
    "id": "5LDgBZoZrcyT"
   },
   "outputs": [],
   "source": []
  },
  {
   "cell_type": "markdown",
   "metadata": {
    "id": "aBVawVnZsfk-"
   },
   "source": [
    "To eliminate a non-empty folder"
   ]
  },
  {
   "cell_type": "code",
   "execution_count": 6,
   "metadata": {
    "id": "IwwcgKC6skrW"
   },
   "outputs": [],
   "source": [
    "!rm -rf /content/MLDL23\n"
   ]
  },
  {
   "cell_type": "code",
   "execution_count": null,
   "metadata": {
    "id": "q2a1YWY9zdH2"
   },
   "outputs": [],
   "source": []
  }
 ],
 "metadata": {
  "accelerator": "GPU",
  "colab": {
   "machine_shape": "hm",
   "provenance": []
  },
  "gpuClass": "premium",
  "kernelspec": {
   "display_name": "Python 3 (ipykernel)",
   "language": "python",
   "name": "python3"
  },
  "language_info": {
   "codemirror_mode": {
    "name": "ipython",
    "version": 3
   },
   "file_extension": ".py",
   "mimetype": "text/x-python",
   "name": "python",
   "nbconvert_exporter": "python",
   "pygments_lexer": "ipython3",
   "version": "3.10.9"
  },
  "vscode": {
   "interpreter": {
    "hash": "2fc1f0eeae38a5df67b0f713e03196095ce1bfa55aa551576e8e58c2ba904c5a"
   }
  }
 },
 "nbformat": 4,
 "nbformat_minor": 1
}
